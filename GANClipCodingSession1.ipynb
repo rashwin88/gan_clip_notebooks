{
  "nbformat": 4,
  "nbformat_minor": 0,
  "metadata": {
    "colab": {
      "provenance": [],
      "authorship_tag": "ABX9TyONDYaxY+y5uFrqR3QkZd+t",
      "include_colab_link": true
    },
    "kernelspec": {
      "name": "python3",
      "display_name": "Python 3"
    },
    "language_info": {
      "name": "python"
    }
  },
  "cells": [
    {
      "cell_type": "markdown",
      "metadata": {
        "id": "view-in-github",
        "colab_type": "text"
      },
      "source": [
        "<a href=\"https://colab.research.google.com/github/rashwin88/gan_clip_notebooks/blob/main/GANClipCodingSession1.ipynb\" target=\"_parent\"><img src=\"https://colab.research.google.com/assets/colab-badge.svg\" alt=\"Open In Colab\"/></a>"
      ]
    },
    {
      "cell_type": "markdown",
      "source": [
        "First we will have to import all the necessary libraries that will help build GANs.\n",
        "1. `pdb` is used for debugging.\n",
        "2. `DataLoader1 is used to create iterables out of training data. Look further in the notebook for how iterables work.\n",
        "3. `make_grid` is used to draw or show the images that the Generator is producing.\n",
        "4. `tqdm` for beautiful progress bars and such.\n",
        "\n",
        "We also set up a standard logger so that we can see what is going on an debug as necessary.\n",
        "\n",
        "####TODO: Need to write something on DataLoader"
      ],
      "metadata": {
        "id": "E8Vbp1X2s5kN"
      }
    },
    {
      "cell_type": "code",
      "execution_count": 6,
      "metadata": {
        "id": "JNfUKRHhseTQ",
        "colab": {
          "base_uri": "https://localhost:8080/"
        },
        "outputId": "467ba5cc-dee4-4d91-fe8d-91402c781814"
      },
      "outputs": [
        {
          "output_type": "stream",
          "name": "stderr",
          "text": [
            "INFO:__main__:Setting up logging for the project\n"
          ]
        }
      ],
      "source": [
        "import torch\n",
        "import pdb # For debugging\n",
        "from torch.utils.data import DataLoader\n",
        "from torch import nn\n",
        "from torchvision import transforms\n",
        "from torchvision.datasets import MNIST\n",
        "from torchvision.utils import make_grid\n",
        "from tqdm.auto import tqdm\n",
        "import matplotlib.pyplot as plt\n",
        "# Set up some basic logging configurations\n",
        "import sys\n",
        "import os\n",
        "import logging\n",
        "\n",
        "logging.basicConfig(\n",
        "    level=logging.INFO,\n",
        "    format=\"%(asctime)s - %(name)s - %(levelname)s - %(message)s\",\n",
        "    handlers=[logging.StreamHandler(sys.stdout)],\n",
        ")\n",
        "\n",
        "logger = logging.getLogger(__name__)\n",
        "logger.setLevel(logging.INFO)\n",
        "logger.info(\"Setting up logging for the project\")"
      ]
    },
    {
      "cell_type": "markdown",
      "source": [
        "As we train, we will want to show some grid of generated images vs some real images. So we will develop some convenience functions for the same. This is actually pretty interesting because it involves some tensor operations that can seem confusing at first. The idea is to display a 4x4 grid of images (which are images output by the network or are images that are inputs from the DataLoader)."
      ],
      "metadata": {
        "id": "Bb3LSsBYue8A"
      }
    },
    {
      "cell_type": "code",
      "source": [
        "from typing import Tuple\n",
        "def show(tensor, channels: int = 1, size: Tuple = (28,28), num: int = 16):\n",
        "  \"\"\"\n",
        "  Displays a a set of images in a grid.\n",
        "\n",
        "  Args:\n",
        "    tensor: The tensor containing the images\n",
        "    channels: The number of channels in each image.\n",
        "    size: The number of width and height pixels (in that order in the image)\n",
        "    num: The number of images to be displayed.\n",
        "  \"\"\"\n",
        "  logger.debug(\"Initializing image display\")\n",
        "  logger.info(\"Detaching tensor from GPU and attaching it to CPU and resizing\")\n",
        "  data = tensor.detach().gpu().view(-1, channels, *size) # Batch Size X Channels X Width X Height\n",
        "  logger.debug(\"Creating grid\")\n",
        "  grid = make_grid(data[:num], nrows=4).permute(1,2,0) # Channels X Widthj X Height -> Width X Height X Channels\n",
        "  plt.imshow(grid)\n",
        "  plt.show()"
      ],
      "metadata": {
        "id": "d_DaFW5auePA"
      },
      "execution_count": 8,
      "outputs": []
    },
    {
      "cell_type": "code",
      "source": [],
      "metadata": {
        "id": "OeGnGAf3yK_3"
      },
      "execution_count": null,
      "outputs": []
    }
  ]
}