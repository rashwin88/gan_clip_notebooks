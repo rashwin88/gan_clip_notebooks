{
  "nbformat": 4,
  "nbformat_minor": 0,
  "metadata": {
    "colab": {
      "provenance": [],
      "toc_visible": true,
      "machine_shape": "hm",
      "gpuType": "A100",
      "authorship_tag": "ABX9TyMs881pM5SGN0pXpx4ZZ4Uz",
      "include_colab_link": true
    },
    "kernelspec": {
      "name": "python3",
      "display_name": "Python 3"
    },
    "language_info": {
      "name": "python"
    },
    "accelerator": "GPU"
  },
  "cells": [
    {
      "cell_type": "markdown",
      "metadata": {
        "id": "view-in-github",
        "colab_type": "text"
      },
      "source": [
        "<a href=\"https://colab.research.google.com/github/rashwin88/gan_clip_notebooks/blob/main/GANClipCodingSession1.ipynb\" target=\"_parent\"><img src=\"https://colab.research.google.com/assets/colab-badge.svg\" alt=\"Open In Colab\"/></a>"
      ]
    },
    {
      "cell_type": "markdown",
      "source": [
        "First we will have to import all the necessary libraries that will help build GANs.\n",
        "1. `pdb` is used for debugging.\n",
        "2. `DataLoader1 is used to create iterables out of training data. Look further in the notebook for how iterables work.\n",
        "3. `make_grid` is used to draw or show the images that the Generator is producing.\n",
        "4. `tqdm` for beautiful progress bars and such.\n",
        "\n",
        "We also set up a standard logger so that we can see what is going on an debug as necessary.\n",
        " Need to write something on DataLoader"
      ],
      "metadata": {
        "id": "E8Vbp1X2s5kN"
      }
    },
    {
      "cell_type": "code",
      "source": [
        "!nvidia-smi"
      ],
      "metadata": {
        "colab": {
          "base_uri": "https://localhost:8080/"
        },
        "id": "SvYnNGPykF2z",
        "outputId": "98ce1dc5-ace9-404b-a311-3428fcc78e4b"
      },
      "execution_count": 1,
      "outputs": [
        {
          "output_type": "stream",
          "name": "stdout",
          "text": [
            "Thu Aug 14 17:11:12 2025       \n",
            "+-----------------------------------------------------------------------------------------+\n",
            "| NVIDIA-SMI 550.54.15              Driver Version: 550.54.15      CUDA Version: 12.4     |\n",
            "|-----------------------------------------+------------------------+----------------------+\n",
            "| GPU  Name                 Persistence-M | Bus-Id          Disp.A | Volatile Uncorr. ECC |\n",
            "| Fan  Temp   Perf          Pwr:Usage/Cap |           Memory-Usage | GPU-Util  Compute M. |\n",
            "|                                         |                        |               MIG M. |\n",
            "|=========================================+========================+======================|\n",
            "|   0  NVIDIA A100-SXM4-40GB          Off |   00000000:00:04.0 Off |                    0 |\n",
            "| N/A   31C    P0             47W /  400W |       0MiB /  40960MiB |      0%      Default |\n",
            "|                                         |                        |             Disabled |\n",
            "+-----------------------------------------+------------------------+----------------------+\n",
            "                                                                                         \n",
            "+-----------------------------------------------------------------------------------------+\n",
            "| Processes:                                                                              |\n",
            "|  GPU   GI   CI        PID   Type   Process name                              GPU Memory |\n",
            "|        ID   ID                                                               Usage      |\n",
            "|=========================================================================================|\n",
            "|  No running processes found                                                             |\n",
            "+-----------------------------------------------------------------------------------------+\n"
          ]
        }
      ]
    },
    {
      "cell_type": "code",
      "execution_count": 2,
      "metadata": {
        "id": "JNfUKRHhseTQ",
        "colab": {
          "base_uri": "https://localhost:8080/"
        },
        "outputId": "02b51fd1-00cc-4448-c22c-9a9cb8608dff"
      },
      "outputs": [
        {
          "output_type": "stream",
          "name": "stderr",
          "text": [
            "INFO:__main__:Setting up logging for the project\n"
          ]
        }
      ],
      "source": [
        "import torch\n",
        "import pdb # For debugging\n",
        "from torch.utils.data import DataLoader\n",
        "from torch import nn\n",
        "from torchvision import transforms\n",
        "from torchvision.datasets import MNIST\n",
        "from torchvision.utils import make_grid\n",
        "from tqdm.auto import tqdm\n",
        "import matplotlib.pyplot as plt\n",
        "# Set up some basic logging configurations\n",
        "import sys\n",
        "import os\n",
        "import logging\n",
        "\n",
        "logging.basicConfig(\n",
        "    level=logging.INFO,\n",
        "    format=\"%(asctime)s - %(name)s - %(levelname)s - %(message)s\",\n",
        "    handlers=[logging.StreamHandler(sys.stdout)],\n",
        ")\n",
        "\n",
        "logger = logging.getLogger(__name__)\n",
        "logger.setLevel(logging.INFO)\n",
        "logger.info(\"Setting up logging for the project\")"
      ]
    },
    {
      "cell_type": "markdown",
      "source": [
        "### Basic Visualization Functions\n",
        "As we train, we will want to show some grid of generated images vs some real images. So we will develop some convenience functions for the same. This is actually pretty interesting because it involves some tensor operations that can seem confusing at first. The idea is to display a 4x4 grid of images (which are images output by the network or are images that are inputs from the DataLoader).\n",
        "\n",
        "Details:\n",
        "1. `make_grid` returns a tensor. We re permute it into a different format so that matplotlib can handle it. Notice that the channels go to the last in this case.\n",
        "2. Prior to that we perform a `detach()` operation and create a view. Note the -1 in the beginning of the view represents all remaining dimensions in this case this is the batch size.\n"
      ],
      "metadata": {
        "id": "Bb3LSsBYue8A"
      }
    },
    {
      "cell_type": "code",
      "source": [
        "from typing import Tuple\n",
        "def show(tensor, channels: int = 1, size: Tuple = (28,28), num: int = 16):\n",
        "  \"\"\"\n",
        "  Displays a a set of images in a grid.\n",
        "\n",
        "  Args:\n",
        "    tensor: The tensor containing the images\n",
        "    channels: The number of channels in each image.\n",
        "    size: The number of width and height pixels (in that order in the image)\n",
        "    num: The number of images to be displayed.\n",
        "  \"\"\"\n",
        "  # input tensor is generally 128 X 784 in size\n",
        "  logger.debug(\"Initializing image display\")\n",
        "  logger.info(\"Detaching tensor from GPU and attaching it to CPU and resizing\")\n",
        "  data = tensor.detach().cpu().view(-1, channels, *size) # Batch Size X Channels X Width X Height\n",
        "  logger.debug(\"Creating grid\")\n",
        "  grid = make_grid(data[:num], nrow=4).permute(1,2,0) # Channels X Width X Height -> Width X Height X Channels\n",
        "  plt.imshow(grid)\n",
        "  plt.show()"
      ],
      "metadata": {
        "id": "d_DaFW5auePA"
      },
      "execution_count": 3,
      "outputs": []
    },
    {
      "cell_type": "markdown",
      "source": [
        "### Coding Hyperparameters and the DataLoader\n",
        "Note that `BCEWithLogitsLoss()` is much more numerically stable and will be out primary loss function.\n",
        "\n",
        "The primary thing to understand here is how the DataLoader works - internal notes will have more of this information."
      ],
      "metadata": {
        "id": "DdnTxpGMaQL8"
      }
    },
    {
      "cell_type": "code",
      "source": [
        "epochs = 500\n",
        "cur_step = 0\n",
        "info_step = 300 # How many steps for info (each step processes a batch)\n",
        "mean_gen_loss = 0\n",
        "mean_disc_loss = 0\n",
        "\n",
        "z_dim = 64 # Dimensionality of the vector space that is the input for noise.\n",
        "lr = 0.00001\n",
        "loss_func = nn.BCEWithLogitsLoss()\n",
        "\n",
        "batch_size = 128\n",
        "device = 'cuda' # Parallel processing\n",
        "\n",
        "# TODO More reseach on this\n",
        "dataloader = DataLoader(\n",
        "    MNIST('.',\n",
        "          download=True,\n",
        "          transform = transforms.ToTensor()),\n",
        "    shuffle = True,\n",
        "    batch_size = batch_size\n",
        ")\n",
        "\n",
        "# Number of steps = 60,000 images / batch_size (128) = 469 steps.\n",
        "# The last step will have a smaller size of the batch\n"
      ],
      "metadata": {
        "id": "bZKGtt98aY_O"
      },
      "execution_count": 4,
      "outputs": []
    },
    {
      "cell_type": "markdown",
      "source": [
        "### Coding out a generator block\n",
        "\n",
        "Basically we are coding a Neural net with 5 hidden layers, the last layer is a linear layer followed by a sigmoid function. The last layer produces an output of size 784 which is the number of pixels in the MNIST images.\n",
        "\n",
        "Internal notes: How the BatchNorm layer works."
      ],
      "metadata": {
        "id": "jiDi7uP9fTUR"
      }
    },
    {
      "cell_type": "code",
      "source": [
        "# Fist we will code out a generator block.\n",
        "def genBlock(inp, out):\n",
        "  \"\"\"\n",
        "  Defines a generator block\n",
        "  \"\"\"\n",
        "  return nn.Sequential(\n",
        "      nn.Linear(inp, out),\n",
        "      nn.BatchNorm1d(out), # Normalizes values\n",
        "      nn.ReLU(inplace=True)\n",
        "  )\n",
        "\n",
        "class Generator(nn.Module):\n",
        "  def __init__(self, z_dim=64, i_dim=784, h_dim = 128):\n",
        "    super().__init__()\n",
        "    self.gen = nn.Sequential(\n",
        "        genBlock(z_dim, h_dim),\n",
        "        genBlock(h_dim, h_dim*2),\n",
        "        genBlock(h_dim*2, h_dim*4),\n",
        "        genBlock(h_dim*4, h_dim*8),\n",
        "        nn.Linear(h_dim*8, i_dim),\n",
        "        nn.Sigmoid()\n",
        "    )\n",
        "\n",
        "  def forward(self, noise):\n",
        "    return self.gen(noise)\n",
        "\n",
        "def gen_noise(number, z_dim):\n",
        "  return torch.randn(number, z_dim).to(device)\n",
        "\n",
        "def discBlock(inp, out):\n",
        "  return nn.Sequential(\n",
        "      nn.Linear(inp, out),\n",
        "      # nn.BatchNorm1d(out),\n",
        "      nn.LeakyReLU(0.2) # To avoid dying Relu\n",
        "  )\n",
        "\n",
        "class Discriminator(nn.Module):\n",
        "  \"\"\"\n",
        "  Input is an image\n",
        "  \"\"\"\n",
        "  def __init__(self, i_dim = 784, h_dim=256):\n",
        "    super().__init__()\n",
        "    self.discrim = nn.Sequential(\n",
        "        discBlock(i_dim, h_dim*4),\n",
        "        discBlock(h_dim*4, h_dim*2),\n",
        "        discBlock(h_dim*2, h_dim),\n",
        "        nn.Linear(h_dim, 1)\n",
        "    )\n",
        "  def forward(self, image):\n",
        "    return self.discrim(image)"
      ],
      "metadata": {
        "id": "S4AwmIoofV3i"
      },
      "execution_count": 5,
      "outputs": []
    },
    {
      "cell_type": "markdown",
      "source": [
        "### Coding the Optimizer\n"
      ],
      "metadata": {
        "id": "54x5ENdbi1Nr"
      }
    },
    {
      "cell_type": "code",
      "source": [
        "gen = Generator(z_dim).to(device)\n",
        "gen_opt = torch.optim.Adam(gen.parameters(), lr=lr)\n",
        "disc = Discriminator().to(device)\n",
        "disc_opt = torch.optim.Adam(disc.parameters(), lr = lr)"
      ],
      "metadata": {
        "id": "Z4D9KJOejF9s"
      },
      "execution_count": 6,
      "outputs": []
    },
    {
      "cell_type": "markdown",
      "source": [
        "### Some fun"
      ],
      "metadata": {
        "id": "tr4ZD0tQkUkN"
      }
    },
    {
      "cell_type": "code",
      "source": [
        "x, y = next(iter(dataloader))\n",
        "noise = gen_noise(batch_size, z_dim)\n",
        "fake = gen(noise)\n",
        "show(fake)"
      ],
      "metadata": {
        "colab": {
          "base_uri": "https://localhost:8080/",
          "height": 451
        },
        "id": "DPjAikCGkXtV",
        "outputId": "26e1f171-8556-4499-90d3-1820728c5c84"
      },
      "execution_count": 7,
      "outputs": [
        {
          "output_type": "stream",
          "name": "stderr",
          "text": [
            "INFO:__main__:Detaching tensor from GPU and attaching it to CPU and resizing\n"
          ]
        },
        {
          "output_type": "display_data",
          "data": {
            "text/plain": [
              "<Figure size 640x480 with 1 Axes>"
            ],
            "image/png": "[encoded data removed]"
          },
          "metadata": {}
        }
      ]
    },
    {
      "cell_type": "markdown",
      "source": [
        "### Computing loss\n",
        "Trying to write these functions for loss computation by myself so that it becomes easier later on."
      ],
      "metadata": {
        "id": "6hDkVjwTk2GR"
      }
    },
    {
      "cell_type": "code",
      "source": [
        "def calc_gen_loss(loss_func, gen, disc, number, z_dim):\n",
        "  \"\"\"\n",
        "  Calculates the loss of the generator\n",
        "  \"\"\"\n",
        "  noise = gen_noise(number, z_dim)\n",
        "  fake = gen(noise)\n",
        "  pred = disc(fake)\n",
        "  targets = torch.ones_like(pred)\n",
        "  return loss_func(pred, targets)\n",
        "\n",
        "def calc_disc_loss(loss_func, gen, disc, real, number, z_dim):\n",
        "  \"\"\"\n",
        "  Calculates the blended loss of the discriminator\n",
        "  \"\"\"\n",
        "  noise = gen_noise(number, z_dim)\n",
        "  fake = gen(noise)\n",
        "  disc_fake = disc(fake.detach())\n",
        "  disc_fake_targets = torch.zeros_like(disc_fake)\n",
        "  disc_fake_loss = loss_func(disc_fake, disc_fake_targets)\n",
        "\n",
        "  disc_real = disc(real)\n",
        "  disc_real_targets = torch.ones_like(disc_real)\n",
        "  disc_real_loss = loss_func(disc_real, disc_real_targets)\n",
        "  return (disc_fake_loss + disc_real_loss)/2\n"
      ],
      "metadata": {
        "id": "bSRTp0j82bQS"
      },
      "execution_count": 8,
      "outputs": []
    },
    {
      "cell_type": "markdown",
      "source": [
        "### The Training loop\n",
        "We will code the generator and a discriminator training loop seperately."
      ],
      "metadata": {
        "id": "-ct34jMt37HK"
      }
    },
    {
      "cell_type": "code",
      "source": [
        "for epoch in range(epochs):\n",
        "  for real, _ in tqdm(dataloader):\n",
        "    # Discriminator\n",
        "    # First get the size of the batch in case this is the last batch\n",
        "    disc_opt.zero_grad()\n",
        "    size = len(real)\n",
        "    # Mutate real\n",
        "    real = real.view(size, -1) # bs * 784\n",
        "    real = real.to(device)\n",
        "    # Calculate the loss\n",
        "    disc_loss = calc_disc_loss(\n",
        "        loss_func,\n",
        "        gen,\n",
        "        disc,\n",
        "        real,\n",
        "        size,\n",
        "        z_dim\n",
        "    )\n",
        "    disc_loss.backward()\n",
        "    disc_opt.step()\n",
        "\n",
        "    ## generator\n",
        "    gen_opt.zero_grad()\n",
        "    gen_loss = calc_gen_loss(\n",
        "        loss_func,\n",
        "        gen,\n",
        "        disc,\n",
        "        size,\n",
        "        z_dim\n",
        "    )\n",
        "    gen_loss.backward()\n",
        "    gen_opt.step()\n",
        "\n",
        "    ## Stats and visuals\n",
        "    mean_disc_loss+=disc_loss.item()/info_step\n",
        "    mean_gen_loss+=gen_loss.item()/info_step\n",
        "\n",
        "    if (cur_step % info_step == 0) and cur_step != 0:\n",
        "      fake_noise = gen_noise(size, z_dim)\n",
        "      fake = gen(fake_noise)\n",
        "      show(fake)\n",
        "      show(real)\n",
        "      print(f\"{epoch}: step {cur_step} Gen Loss: {mean_gen_loss} Disc Loss: {mean_disc_loss}\")\n",
        "      mean_gen_loss, mean_disc_loss = 0, 0\n",
        "    cur_step+=1\n"
      ],
      "metadata": {
        "id": "yTqugZrM4Rg5"
      },
      "execution_count": null,
      "outputs": []
    }
  ]
}